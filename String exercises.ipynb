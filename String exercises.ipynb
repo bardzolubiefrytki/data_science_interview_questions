{
 "cells": [
  {
   "cell_type": "markdown",
   "metadata": {},
   "source": [
    "Given a String S, reverse the string without reversing its individual words. Words are separated by dots."
   ]
  },
  {
   "cell_type": "code",
   "execution_count": 2,
   "metadata": {},
   "outputs": [],
   "source": [
    "def reverse_words(s):\n",
    "    words = s.split('.')\n",
    "    words = words[::-1]\n",
    "    output = '.'.join(words)\n",
    "    return output"
   ]
  },
  {
   "cell_type": "code",
   "execution_count": 3,
   "metadata": {},
   "outputs": [
    {
     "data": {
      "text/plain": [
       "'much.very.program.this.like.i'"
      ]
     },
     "execution_count": 3,
     "metadata": {},
     "output_type": "execute_result"
    }
   ],
   "source": [
    "s='i.like.this.program.very.much'\n",
    "\n",
    "reverse_words(s)"
   ]
  },
  {
   "cell_type": "markdown",
   "metadata": {},
   "source": [
    "Given a string S. The task is to print all permutations of a given string."
   ]
  },
  {
   "cell_type": "code",
   "execution_count": 39,
   "metadata": {},
   "outputs": [],
   "source": [
    "from itertools import permutations\n",
    "\n",
    "def permutation(s):\n",
    "    output = []\n",
    "    for i in range(len(s)):\n",
    "        output=[''.join(p) for p in permutations(s)]  \n",
    "    print(\" \".join(sorted(output))) "
   ]
  },
  {
   "cell_type": "code",
   "execution_count": 41,
   "metadata": {},
   "outputs": [
    {
     "name": "stdout",
     "output_type": "stream",
     "text": [
      "ABGS ABSG AGBS AGSB ASBG ASGB BAGS BASG BGAS BGSA BSAG BSGA GABS GASB GBAS GBSA GSAB GSBA SABG SAGB SBAG SBGA SGAB SGBA\n"
     ]
    }
   ],
   "source": [
    "s= 'ABSG'\n",
    "\n",
    "permutation(s)"
   ]
  },
  {
   "cell_type": "markdown",
   "metadata": {},
   "source": [
    "Given a string S, find the longest palindromic substring in S. Substring of string S: S[ i . . . . j ] where 0 ≤ i ≤ j < len(S). Palindrome string: A string which reads the same backwards. More formally, S is palindrome if reverse(S) = S. Incase of conflict, return the substring which occurs first ( with the least starting index )."
   ]
  },
  {
   "cell_type": "code",
   "execution_count": 71,
   "metadata": {},
   "outputs": [],
   "source": [
    "def longest_palindrome(s):\n",
    "    pal = ''\n",
    "    for j in range(len(s)):\n",
    "        for i in range(len(s), j, -1):\n",
    "            if s[j:i] == s[j:i][::-1] and len(s[j:i]) > len(pal):\n",
    "                    pal = s[j:i]\n",
    "    print (pal)\n",
    "            "
   ]
  },
  {
   "cell_type": "code",
   "execution_count": 72,
   "metadata": {},
   "outputs": [
    {
     "name": "stdout",
     "output_type": "stream",
     "text": [
      "aabbaa\n"
     ]
    }
   ],
   "source": [
    "s= 'aaaabbaa'\n",
    "\n",
    "longest_palindrome(s)"
   ]
  },
  {
   "cell_type": "markdown",
   "metadata": {},
   "source": [
    "Given a string s, recursively remove adjacent duplicate characters from the string s. The output string should not have any adjacent duplicates."
   ]
  },
  {
   "cell_type": "code",
   "execution_count": 97,
   "metadata": {},
   "outputs": [],
   "source": [
    "def adjacent_duplicates(s):\n",
    "    i=1\n",
    "    output = [s[0]]\n",
    "    while i <(len(s)):\n",
    "        if s[i] != output[-1]:\n",
    "            output.append(s[i]) \n",
    "        i+=1    \n",
    "    return ''.join(output)       "
   ]
  },
  {
   "cell_type": "code",
   "execution_count": 99,
   "metadata": {},
   "outputs": [
    {
     "data": {
      "text/plain": [
       "'geksforgek'"
      ]
     },
     "execution_count": 99,
     "metadata": {},
     "output_type": "execute_result"
    }
   ],
   "source": [
    "s = 'geeksforgeek'\n",
    "\n",
    "adjacent_duplicates(s)"
   ]
  },
  {
   "cell_type": "markdown",
   "metadata": {},
   "source": [
    "Now looking at the examples it turned out the code was not only supposed to remove duplicates but the pair of adjacent letters if they're the same. Modifying the code:"
   ]
  },
  {
   "cell_type": "code",
   "execution_count": 125,
   "metadata": {},
   "outputs": [],
   "source": [
    "def remove_duplicates(s):\n",
    "    output = []\n",
    "    temp = list(s)\n",
    "    exist = True\n",
    "    while exist == True:\n",
    "        for i in range(len(temp)-1):\n",
    "            if temp[i] != temp[i+1] and temp[i] != temp[i-1]:\n",
    "                output.append(temp[i])  \n",
    "        for j in range(1, len(output)):\n",
    "            if output[j]==output[j-1]:\n",
    "                temp = output\n",
    "            else:\n",
    "                exist=False        \n",
    "    return ''.join(output) "
   ]
  },
  {
   "cell_type": "code",
   "execution_count": 126,
   "metadata": {},
   "outputs": [
    {
     "data": {
      "text/plain": [
       "'miiipi'"
      ]
     },
     "execution_count": 126,
     "metadata": {},
     "output_type": "execute_result"
    }
   ],
   "source": [
    "s = 'mississipie'\n",
    "\n",
    "remove_duplicates(s)"
   ]
  },
  {
   "cell_type": "markdown",
   "metadata": {},
   "source": [
    "Given two strings a and b. The task is to find if the string 'b' can be obtained by rotating another string 'a' by exactly 2 places."
   ]
  },
  {
   "cell_type": "code",
   "execution_count": 127,
   "metadata": {},
   "outputs": [],
   "source": [
    "def rotated(a,b):\n",
    "    left = a[2:]+a[:2]\n",
    "    right = a[-2:]+a[:-2]\n",
    "    if b== left or b==right:\n",
    "        return 1\n",
    "    else:\n",
    "        return 0"
   ]
  },
  {
   "cell_type": "code",
   "execution_count": 131,
   "metadata": {},
   "outputs": [
    {
     "data": {
      "text/plain": [
       "1"
      ]
     },
     "execution_count": 131,
     "metadata": {},
     "output_type": "execute_result"
    }
   ],
   "source": [
    "a = 'b'\n",
    "b = 'b'\n",
    "\n",
    "rotated(a,b)"
   ]
  },
  {
   "cell_type": "markdown",
   "metadata": {},
   "source": [
    "Given a string in roman no format (s)  your task is to convert it to an integer."
   ]
  },
  {
   "cell_type": "code",
   "execution_count": 146,
   "metadata": {},
   "outputs": [],
   "source": [
    "def romanToDecimal(r):\n",
    "    single = list(r)\n",
    "    values = {'I':1, 'V': 5, 'X': 10,'L': 50,'C': 100, 'D': 500, 'M': 1000}\n",
    "    sum = 0\n",
    "    for letter in range(len(single)-1):\n",
    "        sum += values[single[letter]]\n",
    "        if single[letter] == 'I' and (single[letter+1] =='V' or single[letter+1]) =='X':\n",
    "                                      sum -= 2\n",
    "        if single[letter] == 'X' and (single[letter+1] =='L' or single[letter+1]) =='C':\n",
    "                                      sum -= 20\n",
    "        if single[letter] == 'C' and (single[letter+1] =='D' or single[letter+1]) =='M':\n",
    "                                      sum -= 200                              \n",
    "    sum += values[single[-1]]\n",
    "    return sum"
   ]
  },
  {
   "cell_type": "code",
   "execution_count": 149,
   "metadata": {},
   "outputs": [
    {
     "data": {
      "text/plain": [
       "93"
      ]
     },
     "execution_count": 149,
     "metadata": {},
     "output_type": "execute_result"
    }
   ],
   "source": [
    "r= 'XCIII'\n",
    "\n",
    "romanToDecimal(r)"
   ]
  },
  {
   "cell_type": "markdown",
   "metadata": {},
   "source": [
    "Given two strings a and b consisting of lowercase characters. The task is to check whether two given strings are an anagram of each other or not. An anagram of a string is another string that contains the same characters, only the order of characters can be different. For example, “act” and “tac” are an anagram of each other."
   ]
  },
  {
   "cell_type": "code",
   "execution_count": 161,
   "metadata": {},
   "outputs": [],
   "source": [
    "def anagram(a,b):\n",
    "    al = sorted(list(a))\n",
    "    bl = sorted(list(b))\n",
    "    return bl == al"
   ]
  },
  {
   "cell_type": "code",
   "execution_count": 162,
   "metadata": {},
   "outputs": [
    {
     "data": {
      "text/plain": [
       "False"
      ]
     },
     "execution_count": 162,
     "metadata": {},
     "output_type": "execute_result"
    }
   ],
   "source": [
    "a = 'allergy'\n",
    "b = 'allergic'\n",
    "\n",
    "anagram(a,b)"
   ]
  },
  {
   "cell_type": "markdown",
   "metadata": {},
   "source": [
    "Given a string without spaces, the task is to remove duplicates from it.\n",
    "\n",
    "Note: The original order of characters must be kept the same. "
   ]
  },
  {
   "cell_type": "code",
   "execution_count": 173,
   "metadata": {},
   "outputs": [],
   "source": [
    "def duplicates(s):\n",
    "    output =''\n",
    "    for char in s.lower():\n",
    "        if char not in output:\n",
    "            output += char\n",
    "    return output        "
   ]
  },
  {
   "cell_type": "code",
   "execution_count": 174,
   "metadata": {},
   "outputs": [
    {
     "data": {
      "text/plain": [
       "'geksfor'"
      ]
     },
     "execution_count": 174,
     "metadata": {},
     "output_type": "execute_result"
    }
   ],
   "source": [
    "s= \"geeksforGeeks\"\n",
    "\n",
    "duplicates(s)"
   ]
  },
  {
   "cell_type": "markdown",
   "metadata": {},
   "source": [
    "Given a string S, find length of the longest substring with all distinct characters.  For example, for input \"abca\", the output is 3 as \"abc\" is the longest substring with all distinct characters."
   ]
  },
  {
   "cell_type": "code",
   "execution_count": 200,
   "metadata": {},
   "outputs": [],
   "source": [
    "def distinct(a):\n",
    "    dist_length = 0\n",
    "    reversed = a[::-1]\n",
    "    for j in range(len(a)):\n",
    "        for i in range(len(a), 0, -1):\n",
    "            if len(a[j:i]) == len(set(a[j:i])):\n",
    "                    if len(a[j:i]) > dist_length:\n",
    "                        dist_length = len(set(a[j:i]))\n",
    "    return (dist_length)\n",
    "                "
   ]
  },
  {
   "cell_type": "code",
   "execution_count": 205,
   "metadata": {},
   "outputs": [
    {
     "data": {
      "text/plain": [
       "10"
      ]
     },
     "execution_count": 205,
     "metadata": {},
     "output_type": "execute_result"
    }
   ],
   "source": [
    "a = 'aldshflasghdfasgfkhgasdfasdgvfyweofyewyrtyefgv'\n",
    "\n",
    "distinct(a)"
   ]
  },
  {
   "cell_type": "markdown",
   "metadata": {},
   "source": [
    "Your task  is to implement the function atoi. The function takes a string(str) as argument and converts it to an integer and returns it"
   ]
  },
  {
   "cell_type": "code",
   "execution_count": 206,
   "metadata": {},
   "outputs": [],
   "source": [
    "def atoi(s):\n",
    "    for char in s:\n",
    "        if char not in '0123456789':\n",
    "            return -1\n",
    "    return int(s)    "
   ]
  },
  {
   "cell_type": "code",
   "execution_count": 208,
   "metadata": {},
   "outputs": [
    {
     "data": {
      "text/plain": [
       "212"
      ]
     },
     "execution_count": 208,
     "metadata": {},
     "output_type": "execute_result"
    }
   ],
   "source": [
    "s='212'\n",
    "\n",
    "atoi(s)"
   ]
  },
  {
   "cell_type": "markdown",
   "metadata": {},
   "source": [
    "Your task is to implement the function strstr. The function takes two strings as arguments (s,x) and  locates the occurrence of the string x in the string s. The function returns and integer denoting the first occurrence of the string x in s (0 based indexing)."
   ]
  },
  {
   "cell_type": "code",
   "execution_count": 216,
   "metadata": {},
   "outputs": [],
   "source": [
    "def strstr(s,x):\n",
    "    for i in range (1, len(s)-len(x)):\n",
    "        if x in s[i-1:(i+len(x))]:\n",
    "            return i\n",
    "    return -1    "
   ]
  },
  {
   "cell_type": "code",
   "execution_count": 217,
   "metadata": {},
   "outputs": [
    {
     "data": {
      "text/plain": [
       "1"
      ]
     },
     "execution_count": 217,
     "metadata": {},
     "output_type": "execute_result"
    }
   ],
   "source": [
    "s = 'GeeksForGeeks' \n",
    "x = 'eek'\n",
    "\n",
    "strstr(s,x)"
   ]
  },
  {
   "cell_type": "markdown",
   "metadata": {},
   "source": [
    "Given a array of N strings, find the longest common prefix among all strings present in the array."
   ]
  },
  {
   "cell_type": "code",
   "execution_count": 237,
   "metadata": {},
   "outputs": [],
   "source": [
    "def prefix(l):\n",
    "    shortest = 10**3\n",
    "    longest = ''\n",
    "    for i in range (1,len(l)):\n",
    "        shortest = min(shortest, len(l[i]))\n",
    "    for i in range(shortest):\n",
    "        count = 0\n",
    "        for j in range(1, len(l)):\n",
    "            if l[0][i] == l[j][i]:\n",
    "                count += 1\n",
    "        if count == len(l)-1:\n",
    "            longest +=l[0][i]\n",
    "        else:\n",
    "            break\n",
    "    if len(longest) != 0:\n",
    "        return longest\n",
    "    else:\n",
    "        return -1"
   ]
  },
  {
   "cell_type": "code",
   "execution_count": 239,
   "metadata": {},
   "outputs": [
    {
     "data": {
      "text/plain": [
       "'ap'"
      ]
     },
     "execution_count": 239,
     "metadata": {},
     "output_type": "execute_result"
    }
   ],
   "source": [
    "l = 'apple ape april'.split()\n",
    "\n",
    "prefix(l)"
   ]
  },
  {
   "cell_type": "markdown",
   "metadata": {},
   "source": [
    "Given a string, find the minimum number of characters to be inserted to convert it to palindrome. For Example: ab: Number of insertions required is 1. bab or aba aa: Number of insertions required is 0. aa abcd: Number of insertions required is 3. dcbabcd"
   ]
  },
  {
   "cell_type": "code",
   "execution_count": 241,
   "metadata": {},
   "outputs": [],
   "source": [
    "def form_palindrome(a):\n",
    "    reverse = a[::-1]\n",
    "    seq = []\n",
    "    for i in range(len(a)+1):\n",
    "        temp = []\n",
    "        for j in range(len(a)+1):\n",
    "            temp.append(0)\n",
    "        seq.append(temp)\n",
    "    maxlen = 0\n",
    "    for i in range(1, len(a)+1):\n",
    "        for j in range(1, len(a)+1):\n",
    "            if a[i-1] == reverse[j-1]:\n",
    "                seq[i][j] = 1+seq[i-1][j-1]\n",
    "                maxlen=max(maxlen, seq[i][j])\n",
    "            else:\n",
    "                seq[i][j] = max(seq[i-1][j],seq[i][j-1])\n",
    "    return (len(a)-maxlen) "
   ]
  },
  {
   "cell_type": "code",
   "execution_count": 242,
   "metadata": {},
   "outputs": [
    {
     "data": {
      "text/plain": [
       "10"
      ]
     },
     "execution_count": 242,
     "metadata": {},
     "output_type": "execute_result"
    }
   ],
   "source": [
    "a = 'helppreanadkada'\n",
    "\n",
    "form_palindrome(a) #correct answer is 10"
   ]
  },
  {
   "cell_type": "code",
   "execution_count": null,
   "metadata": {},
   "outputs": [],
   "source": []
  }
 ],
 "metadata": {
  "kernelspec": {
   "display_name": "Python 3",
   "language": "python",
   "name": "python3"
  },
  "language_info": {
   "codemirror_mode": {
    "name": "ipython",
    "version": 3
   },
   "file_extension": ".py",
   "mimetype": "text/x-python",
   "name": "python",
   "nbconvert_exporter": "python",
   "pygments_lexer": "ipython3",
   "version": "3.8.3"
  }
 },
 "nbformat": 4,
 "nbformat_minor": 4
}
