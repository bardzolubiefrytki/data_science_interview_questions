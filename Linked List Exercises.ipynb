{
 "cells": [
  {
   "cell_type": "markdown",
   "metadata": {},
   "source": [
    "First we need to initialize nodes and linked list classes.\n",
    "I used this video as reference:\n",
    "https://www.youtube.com/watch?v=JlMyYuY1aXU"
   ]
  },
  {
   "cell_type": "code",
   "execution_count": 1,
   "metadata": {},
   "outputs": [],
   "source": [
    "class node:\n",
    "    def __init__(self, data=None):\n",
    "        self.data = data\n",
    "        self.next = None\n",
    "        \n",
    "class linked_list:\n",
    "    def __init__(self):\n",
    "        self.head = node()    \n",
    "    def append(self, data):\n",
    "        new_node = node(data)\n",
    "        cur = self.head\n",
    "        while cur.next:\n",
    "            cur = cur.next\n",
    "        cur.next = new_node\n",
    "    def prepend(self, data):\n",
    "        new_node = node(data)\n",
    "        new_node.next = self.head\n",
    "        self.head = new_node\n",
    "    def insert_after_node(self, prev_node,data):\n",
    "        new_node = node(data)\n",
    "        new_node.next = prev_node.next\n",
    "        prev_node.next = new_node\n",
    "    def length(self):\n",
    "        cur = self.head\n",
    "        total = 0\n",
    "        while cur.next:\n",
    "            total += 1\n",
    "            cur = cur.next\n",
    "        return total\n",
    "    def display(self):\n",
    "        elems = []\n",
    "        cur_node = self.head\n",
    "        while cur_node.next != None:\n",
    "            cur_node = cur_node.next\n",
    "            elems.append(cur_node.data)\n",
    "        print (elems) \n",
    "    def get(self, index):\n",
    "        if index >= self.length():\n",
    "            print ('index out of range')\n",
    "            return None\n",
    "        cur_idx = 0\n",
    "        cur_node = self.head\n",
    "        while True:\n",
    "            cur_node = cur_node.next\n",
    "            if cur_idx == index:\n",
    "                return cur_node.data\n",
    "            cur_idx += 1\n",
    "    def delete_at_index(self, index): #delete node at given index\n",
    "        if index >= self.length():\n",
    "            print ('index out of range')\n",
    "        cur_idx = 0\n",
    "        cur_node = self.head\n",
    "        while True:\n",
    "            last_node = cur_node\n",
    "            cur_node = cur_node.next\n",
    "            if cur_idx == index:\n",
    "                last_node.next = cur_node.next\n",
    "                return\n",
    "            cur_idx += 1\n",
    "    def delete_value(self, key): #delete node with key value as data \n",
    "        cur_node = self.head\n",
    "        if cur_node and cur_node.data == key:\n",
    "            self.head = cur_node.next\n",
    "            cur_nude = None\n",
    "            return\n",
    "        prev = None\n",
    "        while cur_node and cur_node.data != key:\n",
    "            prev = cur_node\n",
    "            cur_node = cur_node.next\n",
    "        if cur_node is None:\n",
    "            return\n",
    "        prev.next = cur_node.next\n",
    "        cur_node = None\n",
    "    def reverse(self):\n",
    "        prev = None\n",
    "        cur = self.head\n",
    "        while cur:\n",
    "            nxt = cur.next\n",
    "            cur.next = prev\n",
    "            prev = cur.node\n",
    "            cur = nxt\n",
    "        self.head = prev    \n",
    "            "
   ]
  },
  {
   "cell_type": "markdown",
   "metadata": {},
   "source": [
    "Given a singly linked list of N nodes. The task is to find the middle of the linked list. For example, if given linked list is 1->2->3->4->5 then the output should be 3.\n",
    "If there are even nodes, then there would be two middle nodes, we need to print the second middle element. For example, if given linked list is 1->2->3->4->5->6 then the output should be 4."
   ]
  },
  {
   "cell_type": "code",
   "execution_count": 2,
   "metadata": {},
   "outputs": [],
   "source": [
    "import math\n",
    "\n",
    "def getMiddle(l):\n",
    "    seperated = l.split('->')\n",
    "    ll = linked_list()\n",
    "    for item in seperated:\n",
    "        ll.append(item)\n",
    "    if ll.length()%2 == 0:\n",
    "        return ll.get(math.floor(ll.length()/2))\n",
    "    else:\n",
    "        return ll.get(math.floor(ll.length()/2))"
   ]
  },
  {
   "cell_type": "code",
   "execution_count": 3,
   "metadata": {},
   "outputs": [
    {
     "data": {
      "text/plain": [
       "'5'"
      ]
     },
     "execution_count": 3,
     "metadata": {},
     "output_type": "execute_result"
    }
   ],
   "source": [
    "l = '4->6->7->5->1->2'\n",
    "\n",
    "getMiddle(l)"
   ]
  },
  {
   "cell_type": "markdown",
   "metadata": {},
   "source": [
    "Given a linked list of N nodes. The task is to reverse this list."
   ]
  },
  {
   "cell_type": "code",
   "execution_count": 4,
   "metadata": {},
   "outputs": [],
   "source": [
    "def reverseList(l):\n",
    "    seperated = l.split('->')\n",
    "    ll = linked_list()\n",
    "    for item in seperated:\n",
    "        ll.append(item)\n",
    "    output = []\n",
    "    i = ll.length()-1\n",
    "    while i >= 0:\n",
    "        output.append(ll.get(i))\n",
    "        i -= 1\n",
    "    print (' '.join(output))"
   ]
  },
  {
   "cell_type": "code",
   "execution_count": 5,
   "metadata": {},
   "outputs": [
    {
     "name": "stdout",
     "output_type": "stream",
     "text": [
      "10 9 8 7 2\n"
     ]
    }
   ],
   "source": [
    "l = '2->7->8->9->10'\n",
    "\n",
    "reverseList(l)"
   ]
  },
  {
   "cell_type": "markdown",
   "metadata": {},
   "source": [
    "Given a singly linked list of size N. The task is to rotate the linked list counter-clockwise by k nodes, where k is a given positive integer smaller than or equal to length of the linked list."
   ]
  },
  {
   "cell_type": "code",
   "execution_count": 6,
   "metadata": {},
   "outputs": [],
   "source": [
    "def rotate(l, k):\n",
    "    ll = linked_list()\n",
    "    for item in l:\n",
    "        ll.append(item)\n",
    "    rotated = [0]*ll.length()\n",
    "    for i in range(ll.length()-k):\n",
    "        rotated[i] = ll.get(i+k)\n",
    "    for i in range(k):\n",
    "        rotated[i+len(l)-k] = ll.get(i)\n",
    "    return rotated\n",
    "        "
   ]
  },
  {
   "cell_type": "code",
   "execution_count": 7,
   "metadata": {},
   "outputs": [
    {
     "data": {
      "text/plain": [
       "[17, 21, 17, 11, 23]"
      ]
     },
     "execution_count": 7,
     "metadata": {},
     "output_type": "execute_result"
    }
   ],
   "source": [
    "l = [11, 23, 17, 21, 17]\n",
    "k = 2\n",
    "\n",
    "rotate(l, k)"
   ]
  },
  {
   "cell_type": "markdown",
   "metadata": {},
   "source": [
    "Given a linked list of size N. The task is to reverse every k nodes (where k is an input to the function) in the linked list."
   ]
  },
  {
   "cell_type": "code",
   "execution_count": 10,
   "metadata": {},
   "outputs": [],
   "source": [
    "import math\n",
    "\n",
    "def reverse(nodes, k):\n",
    "    seperated = nodes.split('->')\n",
    "    ll = linked_list()\n",
    "    for item in seperated:\n",
    "        ll.append(item)\n",
    "    i = 0\n",
    "    while i <= ll.length():\n",
    "        left = i\n",
    "        right = min(i+k-1, ll.length()-1)\n",
    "        while (left < right):\n",
    "            seperated[left], seperated[right] = seperated[right], seperated[left]\n",
    "            left += 1\n",
    "            right -= 1\n",
    "        i += k\n",
    "    return seperated    "
   ]
  },
  {
   "cell_type": "code",
   "execution_count": 11,
   "metadata": {},
   "outputs": [
    {
     "data": {
      "text/plain": [
       "['3', '2', '1', '5', '4']"
      ]
     },
     "execution_count": 11,
     "metadata": {},
     "output_type": "execute_result"
    }
   ],
   "source": [
    "nodes = '1->2->3->4->5'\n",
    "k=3\n",
    "\n",
    "reverse(nodes, k)"
   ]
  },
  {
   "cell_type": "markdown",
   "metadata": {},
   "source": [
    "Given a linked list consisting of L nodes and given a number N. The task is to find the Nth node from the end of the linked list."
   ]
  },
  {
   "cell_type": "code",
   "execution_count": 29,
   "metadata": {},
   "outputs": [],
   "source": [
    "def getNthFromLast(nodes, n):\n",
    "    seperated = nodes.split('->')\n",
    "    ll = linked_list()\n",
    "    for item in seperated:\n",
    "        ll.append(item)\n",
    "    if ll.length()< n:\n",
    "        return -1\n",
    "    return ll.get(ll.length()-n)   "
   ]
  },
  {
   "cell_type": "code",
   "execution_count": 31,
   "metadata": {},
   "outputs": [
    {
     "data": {
      "text/plain": [
       "-1"
      ]
     },
     "execution_count": 31,
     "metadata": {},
     "output_type": "execute_result"
    }
   ],
   "source": [
    "nodes = '10->5->100->5'\n",
    "n = 5\n",
    "\n",
    "getNthFromLast(nodes, n)"
   ]
  },
  {
   "cell_type": "markdown",
   "metadata": {},
   "source": [
    "Given two sorted linked lists consisting of N and M nodes respectively. The task is to merge both of the list (in-place) and return head of the merged list."
   ]
  },
  {
   "cell_type": "code",
   "execution_count": 64,
   "metadata": {},
   "outputs": [],
   "source": [
    "def sortedMerge(n,m):\n",
    "    ll1 = linked_list()\n",
    "    for item in n:\n",
    "        ll1.append(item)\n",
    "    ll2 = linked_list()\n",
    "    for item in m:\n",
    "        ll2.append(item)\n",
    "    cur1 = ll1.head.next\n",
    "    cur2 = ll2.head.next\n",
    "    lloutput = linked_list()\n",
    "    while cur1 != None and cur2 != None:\n",
    "        if cur1.data <= cur2.data:\n",
    "            lloutput.append(cur1.data)\n",
    "            cur1 = cur1.next\n",
    "        else:\n",
    "            lloutput.append(cur2.data)\n",
    "            cur2 = cur2.next\n",
    "    if cur1 == None:\n",
    "        while cur2.next != None:\n",
    "            lloutput.append(cur2.data)\n",
    "            cur2 = cur2.next\n",
    "    if cur2 == None:\n",
    "        while cur1.next != None:\n",
    "            lloutput.append(cur1.data)\n",
    "            cur1 = cur1.next\n",
    "    return lloutput.display()        \n",
    "        "
   ]
  },
  {
   "cell_type": "code",
   "execution_count": 65,
   "metadata": {},
   "outputs": [
    {
     "name": "stdout",
     "output_type": "stream",
     "text": [
      "[2, 3, 5, 10, 15, 20]\n"
     ]
    }
   ],
   "source": [
    "n = [5,10,15,40]\n",
    "m = [2,3,20]\n",
    "\n",
    "sortedMerge(n,m)"
   ]
  },
  {
   "cell_type": "markdown",
   "metadata": {},
   "source": [
    "Given a singly linked list of size N. The task is to swap elements in the linked list pairwise.\n",
    "For example, if the input list is 1 2 3 4, the resulting list after swaps will be 2 1 4 3."
   ]
  },
  {
   "cell_type": "code",
   "execution_count": 104,
   "metadata": {},
   "outputs": [],
   "source": [
    "def pairWiseSwap(n):\n",
    "    seperated = n.split('->')\n",
    "    ll = linked_list()\n",
    "    for item in seperated:\n",
    "        ll.append(item)   \n",
    "    cur = ll.head.next\n",
    "    nxt = cur.next\n",
    "    while nxt:\n",
    "        cur.data, nxt.data = nxt.data, cur.data\n",
    "        cur = nxt.next\n",
    "        if cur:\n",
    "            nxt = cur.next\n",
    "        else:\n",
    "            break\n",
    "    return ll.display()"
   ]
  },
  {
   "cell_type": "code",
   "execution_count": 105,
   "metadata": {},
   "outputs": [
    {
     "name": "stdout",
     "output_type": "stream",
     "text": [
      "['2', '1', '4', '2', '6', '5', '8', '7']\n"
     ]
    }
   ],
   "source": [
    "n = \"1->2->2->4->5->6->7->8\"\n",
    "\n",
    "pairWiseSwap(n)\n",
    "#correct: 2 1 4 2 6 5 8 7"
   ]
  },
  {
   "cell_type": "code",
   "execution_count": null,
   "metadata": {},
   "outputs": [],
   "source": []
  }
 ],
 "metadata": {
  "kernelspec": {
   "display_name": "Python 3",
   "language": "python",
   "name": "python3"
  },
  "language_info": {
   "codemirror_mode": {
    "name": "ipython",
    "version": 3
   },
   "file_extension": ".py",
   "mimetype": "text/x-python",
   "name": "python",
   "nbconvert_exporter": "python",
   "pygments_lexer": "ipython3",
   "version": "3.8.3"
  }
 },
 "nbformat": 4,
 "nbformat_minor": 4
}
