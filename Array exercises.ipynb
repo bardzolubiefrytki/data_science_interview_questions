{
 "cells": [
  {
   "cell_type": "markdown",
   "metadata": {},
   "source": [
    "# Commonly asked questions about arrays"
   ]
  },
  {
   "cell_type": "markdown",
   "metadata": {},
   "source": [
    "Given an unsorted array A of size N of non-negative integers, find a continuous sub-array which adds to a given number S"
   ]
  },
  {
   "cell_type": "code",
   "execution_count": 47,
   "metadata": {},
   "outputs": [],
   "source": [
    "import numpy as np"
   ]
  },
  {
   "cell_type": "code",
   "execution_count": 3,
   "metadata": {},
   "outputs": [],
   "source": [
    "def subArraySum(arr, n, sum): \n",
    "    for i in range(n): \n",
    "        curr_sum = arr[i] \n",
    "        j = i + 1\n",
    "        while j <= n: \n",
    "            if curr_sum == sum: \n",
    "                print (\"Sum found between\") \n",
    "                print(\"indexes % d and % d\"%( i, j-1))\n",
    "                return 1\n",
    "            elif curr_sum > sum or j == n: \n",
    "                break\n",
    "            curr_sum = curr_sum + arr[j] \n",
    "            j += 1\n",
    "    print (\"No subarray found\")\n",
    "    return 0        "
   ]
  },
  {
   "cell_type": "code",
   "execution_count": 4,
   "metadata": {},
   "outputs": [
    {
     "name": "stdout",
     "output_type": "stream",
     "text": [
      "Sum found between\n",
      "indexes  1 and  4\n"
     ]
    },
    {
     "data": {
      "text/plain": [
       "1"
      ]
     },
     "execution_count": 4,
     "metadata": {},
     "output_type": "execute_result"
    }
   ],
   "source": [
    "arr = [15, 2, 4, 8, 9, 5, 10, 23] \n",
    "n = len(arr) \n",
    "sum = 23\n",
    "  \n",
    "subArraySum(arr, n, sum) "
   ]
  },
  {
   "cell_type": "markdown",
   "metadata": {},
   "source": [
    "Given an array of distinct integers. The task is to count all the triplets such that sum of two elements equals the third element."
   ]
  },
  {
   "cell_type": "code",
   "execution_count": 6,
   "metadata": {},
   "outputs": [],
   "source": [
    "def triplets(n, arr):\n",
    "    n_triplets = 0\n",
    "    for i in range(n):\n",
    "        for j in range (i + 1, n):\n",
    "            sum = arr[i]+arr[j]\n",
    "            if sum in arr:\n",
    "                print (str(arr[i]), \"+\", str(arr[j]), \"=\", str(sum))\n",
    "                n_triplets +=1\n",
    "    if n_triplets == 0:\n",
    "        print ('No triplets found')\n",
    "                "
   ]
  },
  {
   "cell_type": "code",
   "execution_count": 8,
   "metadata": {},
   "outputs": [
    {
     "name": "stdout",
     "output_type": "stream",
     "text": [
      "1 + 2 = 3\n",
      "3 + 2 = 5\n"
     ]
    }
   ],
   "source": [
    "n = 4\n",
    "arr = [1, 5, 3, 2]\n",
    "triplets(n, arr)"
   ]
  },
  {
   "cell_type": "code",
   "execution_count": 9,
   "metadata": {},
   "outputs": [
    {
     "name": "stdout",
     "output_type": "stream",
     "text": [
      "No triplets found\n"
     ]
    }
   ],
   "source": [
    "n = 3\n",
    "arr = [2, 3, 4]\n",
    "triplets(n, arr)"
   ]
  },
  {
   "cell_type": "markdown",
   "metadata": {},
   "source": [
    "Given an array arr of N integers. Find the contiguous sub-array with maximum sum."
   ]
  },
  {
   "cell_type": "code",
   "execution_count": 21,
   "metadata": {},
   "outputs": [],
   "source": [
    "def max_sum(n, arr):\n",
    "    max_sum = -10**8\n",
    "    for i in range(n):\n",
    "        sum = arr[i]\n",
    "        if sum > max_sum:\n",
    "            max_sum = sum\n",
    "        for j in range (i + 1, n):\n",
    "            sum += arr[j]\n",
    "            if sum > max_sum:\n",
    "                max_sum = sum\n",
    "    print ('Maximum sum of a continuous sub-array is: ', max_sum)\n",
    "            "
   ]
  },
  {
   "cell_type": "code",
   "execution_count": 22,
   "metadata": {},
   "outputs": [
    {
     "name": "stdout",
     "output_type": "stream",
     "text": [
      "Maximum sum of a continuous sub-array is:  9\n"
     ]
    }
   ],
   "source": [
    "n = 5\n",
    "arr = [1, 2, 3, -2, 5]\n",
    "max_sum(n,arr)"
   ]
  },
  {
   "cell_type": "markdown",
   "metadata": {},
   "source": [
    "Given an array C of size N-1 and given that there are numbers from 1 to N with one element missing, the missing number is to be found"
   ]
  },
  {
   "cell_type": "code",
   "execution_count": 27,
   "metadata": {},
   "outputs": [],
   "source": [
    "def missing(n, arr):\n",
    "    for i in range(1, n):\n",
    "        if i not in arr:\n",
    "            return i        "
   ]
  },
  {
   "cell_type": "code",
   "execution_count": 28,
   "metadata": {},
   "outputs": [
    {
     "data": {
      "text/plain": [
       "4"
      ]
     },
     "execution_count": 28,
     "metadata": {},
     "output_type": "execute_result"
    }
   ],
   "source": [
    "n = 5\n",
    "arr = [1, 2, 3, 5]\n",
    "\n",
    "missing(n, arr)"
   ]
  },
  {
   "cell_type": "markdown",
   "metadata": {},
   "source": [
    "Given two sorted arrays arr1[] of size N and arr2[] of size M. Each array is sorted in non-decreasing order. Merge the two arrays into one sorted array in non-decreasing order."
   ]
  },
  {
   "cell_type": "code",
   "execution_count": 36,
   "metadata": {},
   "outputs": [],
   "source": [
    "def sorted(arr1, arr2):\n",
    "    new_arr= arr1\n",
    "    for item in arr2:\n",
    "        new_arr.append(item)\n",
    "    new_arr.sort()    \n",
    "    print (\"new sorted array: \", new_arr)"
   ]
  },
  {
   "cell_type": "code",
   "execution_count": 38,
   "metadata": {},
   "outputs": [
    {
     "name": "stdout",
     "output_type": "stream",
     "text": [
      "new sorted array:  [5, 10, 12, 18, 20]\n"
     ]
    }
   ],
   "source": [
    "arr1 = [10, 12]\n",
    "arr2 = [5, 18, 20]\n",
    "sorted(arr1, arr2)"
   ]
  },
  {
   "cell_type": "markdown",
   "metadata": {},
   "source": [
    "Given a sorted array of positive integers. Your task is to rearrange  the array elements alternatively i.e first element should be max value, second should be min value, third should be second max, fourth should be second min and so on..."
   ]
  },
  {
   "cell_type": "code",
   "execution_count": 48,
   "metadata": {},
   "outputs": [],
   "source": [
    "def alternate(arr):\n",
    "    new_arr =[]\n",
    "    for i in range(len(arr)):\n",
    "        if i%2 == 0:\n",
    "            new_arr.append(arr.pop(-1))\n",
    "        else:\n",
    "            new_arr.append(arr.pop(0))\n",
    "    return new_arr        "
   ]
  },
  {
   "cell_type": "code",
   "execution_count": 51,
   "metadata": {},
   "outputs": [
    {
     "data": {
      "text/plain": [
       "[110, 10, 100, 20, 90, 30, 80, 40, 70, 50, 60]"
      ]
     },
     "execution_count": 51,
     "metadata": {},
     "output_type": "execute_result"
    }
   ],
   "source": [
    "arr = [10, 20, 30, 40, 50, 60, 70, 80, 90, 100, 110]\n",
    "\n",
    "alternate(arr)"
   ]
  },
  {
   "cell_type": "code",
   "execution_count": 52,
   "metadata": {},
   "outputs": [],
   "source": [
    "def pairs(arr1, arr2):\n",
    "    pairs =[]\n",
    "    for item in arr1:\n",
    "        for jtem in arr2:\n",
    "            if item**jtem > jtem**item:\n",
    "                pairs.append((item, jtem))\n",
    "    print ('there are total ', len(pairs), ' pairs: ', pairs)            "
   ]
  },
  {
   "cell_type": "code",
   "execution_count": 54,
   "metadata": {},
   "outputs": [
    {
     "name": "stdout",
     "output_type": "stream",
     "text": [
      "there are total  2  pairs:  [(10, 11), (10, 15)]\n"
     ]
    }
   ],
   "source": [
    "X = [10, 19, 18] \n",
    "Y = [11, 15, 9]\n",
    "pairs(X, Y)"
   ]
  },
  {
   "cell_type": "markdown",
   "metadata": {},
   "source": [
    "Given an array of positive integers. The task is to find inversion count of array.\n",
    "\n",
    "Inversion Count : For an array, inversion count indicates how far (or close) the array is from being sorted. If array is already sorted then inversion count is 0. If array is sorted in reverse order that inversion count is the maximum. \n",
    "Formally, two elements a[i] and a[j] form an inversion if a[i] > a[j] and i < j."
   ]
  },
  {
   "cell_type": "code",
   "execution_count": 55,
   "metadata": {},
   "outputs": [],
   "source": [
    "def inversion(arr):\n",
    "    count = 0\n",
    "    for i in range(len(arr)):\n",
    "        for j in range(i+1, len(arr)):\n",
    "            if arr[i] > arr[j]:\n",
    "                count += 1\n",
    "    print('the inversion count is: ', count)"
   ]
  },
  {
   "cell_type": "code",
   "execution_count": 57,
   "metadata": {},
   "outputs": [
    {
     "name": "stdout",
     "output_type": "stream",
     "text": [
      "the inversion count is:  238\n"
     ]
    }
   ],
   "source": [
    "arr = [174, 165, 142, 212, 254, 369, 48, 145, 163, 258, 38, 360, 224, 242, 30, 279, 317, 36, 191, 343, 289, 107, 41, 443, 265, 149, 447, 306, 391, 230, 371, 351, 7, 102]\n",
    "\n",
    "inversion(arr)"
   ]
  },
  {
   "cell_type": "markdown",
   "metadata": {},
   "source": [
    "Given an array A of N positive numbers. The task is to find the position where equilibrium first occurs in the array. Equilibrium position in an array is a position such that the sum of elements before it is equal to the sum of elements after it."
   ]
  },
  {
   "cell_type": "code",
   "execution_count": 72,
   "metadata": {},
   "outputs": [],
   "source": [
    "def equilibrium(arr):\n",
    "    eq = False\n",
    "    for i in range(len(arr)):\n",
    "        front = 0\n",
    "        back = 0\n",
    "        for e in arr[:i]:\n",
    "            front += e\n",
    "        for f in arr[i+1:]:\n",
    "            back += f\n",
    "        if front == back:\n",
    "            print ('position of equilibrium(indexing from 1):', i+1)\n",
    "            eq =True\n",
    "            break\n",
    "    if eq == False:\n",
    "        print ('no equilibrium')"
   ]
  },
  {
   "cell_type": "code",
   "execution_count": 75,
   "metadata": {},
   "outputs": [
    {
     "name": "stdout",
     "output_type": "stream",
     "text": [
      "no equilibrium\n"
     ]
    }
   ],
   "source": [
    "arr=[7, 34, 19, 5, 30, 15, 43, 21, 5, 21, 6, 18, 3, 33]\n",
    "\n",
    "equilibrium(arr)"
   ]
  },
  {
   "cell_type": "markdown",
   "metadata": {},
   "source": [
    "Given an array of positive integers. Your task is to find the leaders in the array.\n",
    "Note: An element of array is leader if it is greater than or equal to all the elements to its right side. Also, the rightmost element is always a leader. "
   ]
  },
  {
   "cell_type": "code",
   "execution_count": 78,
   "metadata": {},
   "outputs": [],
   "source": [
    "def leaders(arr):\n",
    "    leaders=[]\n",
    "    for i in range(len(arr)):\n",
    "        is_leader = True\n",
    "        for j in range(i+1, len(arr)):\n",
    "            if arr[i] < arr[j]:\n",
    "                is_leader = False\n",
    "        if is_leader == True:\n",
    "            leaders.append(arr[i])\n",
    "    print('leaders are: ', leaders)"
   ]
  },
  {
   "cell_type": "code",
   "execution_count": 81,
   "metadata": {},
   "outputs": [
    {
     "name": "stdout",
     "output_type": "stream",
     "text": [
      "leaders are:  [7, 7, 3]\n"
     ]
    }
   ],
   "source": [
    "arr = [7, 4, 5, 7, 3]\n",
    "\n",
    "leaders(arr)"
   ]
  },
  {
   "cell_type": "markdown",
   "metadata": {},
   "source": [
    "Given arrival and departure times of all trains that reach a railway station. Your task is to find the minimum number of platforms required for the railway station so that no train waits."
   ]
  },
  {
   "cell_type": "code",
   "execution_count": 7,
   "metadata": {},
   "outputs": [],
   "source": [
    "def trains(arr, dep):\n",
    "    platforms = 0\n",
    "    arrived = 0\n",
    "    departed = 0\n",
    "    count = 0\n",
    "    arr.sort()\n",
    "    dep.sort()\n",
    "    while arrived < len(arr):\n",
    "        if arr[arrived] <= dep[departed]:\n",
    "            count += 1\n",
    "            arrived += 1\n",
    "            platforms = max(platforms, count)\n",
    "        elif arr[arrived] > dep[departed]:\n",
    "            count -= 1\n",
    "            departed += 1\n",
    "    return platforms            "
   ]
  },
  {
   "cell_type": "code",
   "execution_count": 15,
   "metadata": {},
   "outputs": [
    {
     "data": {
      "text/plain": [
       "16"
      ]
     },
     "execution_count": 15,
     "metadata": {},
     "output_type": "execute_result"
    }
   ],
   "source": [
    "arr = [306, 1639, 455, 1459, 1057, 230, 622, 255, 554, 1511, 237, 353, 1745, 116, 1244, 1642, 244, 724, 1325, 943, 55, 726, 1007, 904, 1238, 536, 855, 1027, 417, 1541, 859, 424, 530, 242, 816, 135, 1819, 628, 909, 821, 1949, 645, 921, 610, 712, 1900, 1223]\n",
    "dep = [323, 2128, 821, 1512, 1503, 256, 655, 436, 953, 1610, 645, 1600, 2216, 517, 1400, 2105, 733, 900, 1500, 1400, 1700, 1248, 1025, 915, 1257, 1922, 859, 1048, 517, 1619, 1915, 754, 2100, 353, 838, 232, 1915, 1610, 909, 1903, 2036, 2238, 1300, 2351, 1040, 1950, 1633]\n",
    "trains(arr, dep)"
   ]
  },
  {
   "cell_type": "markdown",
   "metadata": {},
   "source": [
    "For the above function I got input with numbers not seperated by comas so here's a small converter."
   ]
  },
  {
   "cell_type": "code",
   "execution_count": 3,
   "metadata": {},
   "outputs": [],
   "source": [
    "def add_comas(string):\n",
    "    commas_added = ', '.join(string.split())\n",
    "    return commas_added"
   ]
  },
  {
   "cell_type": "code",
   "execution_count": 110,
   "metadata": {},
   "outputs": [
    {
     "data": {
      "text/plain": [
       "'87, 78, 16, 94, 36, 87, 93, 50, 22, 63, 28, 91, 60, 64, 27, 41, 27, 73, 37, 12, 69, 68, 30, 83, 31, 63, 24, 68, 36, 30, 3, 23, 59, 70, 68, 94, 57, 12, 43, 30, 74, 22, 20, 85, 38, 99, 25, 16, 71, 14, 27, 92, 81, 57, 74, 63, 71, 97, 82, 6, 26, 85, 28, 37, 6, 47, 30, 14, 58, 25, 96, 83, 46, 15, 68, 35, 65, 44, 51, 88, 9, 77, 79, 89, 61'"
      ]
     },
     "execution_count": 110,
     "metadata": {},
     "output_type": "execute_result"
    }
   ],
   "source": [
    "add_comas('87 78 16 94 36 87 93 50 22 63 28 91 60 64 27 41 27 73 37 12 69 68 30 83 31 63 24 68 36 30 3 23 59 70 68 94 57 12 43 30 74 22 20 85 38 99 25 16 71 14 27 92 81 57 74 63 71 97 82 6 26 85 28 37 6 47 30 14 58 25 96 83 46 15 68 35 65 44 51 88 9 77 79 89 61')"
   ]
  },
  {
   "cell_type": "markdown",
   "metadata": {},
   "source": [
    "Given an array arr[] of positive integers of size N. Reverse every sub-array of K group elements."
   ]
  },
  {
   "cell_type": "code",
   "execution_count": 25,
   "metadata": {},
   "outputs": [],
   "source": [
    "def reverse_groups(arr, k):\n",
    "    chunks = [arr[i:i + k] for i in range(0, len(arr), k)]\n",
    "    reverse_arr = []\n",
    "    for chunk in chunks:\n",
    "        chunk.reverse()\n",
    "        reverse_arr.extend(chunk)\n",
    "    return reverse_arr    "
   ]
  },
  {
   "cell_type": "code",
   "execution_count": 27,
   "metadata": {},
   "outputs": [
    {
     "data": {
      "text/plain": [
       "[20, 10, 40, 30, 60, 50]"
      ]
     },
     "execution_count": 27,
     "metadata": {},
     "output_type": "execute_result"
    }
   ],
   "source": [
    "reverse_groups([10, 20, 30, 40, 50, 60], 2)"
   ]
  },
  {
   "cell_type": "markdown",
   "metadata": {},
   "source": [
    "Given an array arr[] and a number K where K is smaller than size of array, the task is to find the Kth smallest element in the given array. It is given that all array elements are distinct."
   ]
  },
  {
   "cell_type": "code",
   "execution_count": 65,
   "metadata": {},
   "outputs": [],
   "source": [
    "def smallest(arr, k):\n",
    "    arr = np.sort(arr)\n",
    "    return arr[-k]"
   ]
  },
  {
   "cell_type": "code",
   "execution_count": 66,
   "metadata": {},
   "outputs": [
    {
     "data": {
      "text/plain": [
       "7"
      ]
     },
     "execution_count": 66,
     "metadata": {},
     "output_type": "execute_result"
    }
   ],
   "source": [
    "arr = [7, 10, 4, 20, 15]\n",
    "k = 4\n",
    "\n",
    "smallest(arr, k)"
   ]
  },
  {
   "cell_type": "markdown",
   "metadata": {},
   "source": [
    "Given an array arr[] of N non-negative integers representing height of blocks at index i as Ai where the width of each block is 1. Compute how much water can be trapped in between blocks after raining.\n",
    "(refer to https://practice.geeksforgeeks.org/problems/trapping-rain-water/0)"
   ]
  },
  {
   "cell_type": "code",
   "execution_count": 84,
   "metadata": {},
   "outputs": [],
   "source": [
    "def rainwater(arr):\n",
    "    water = 0\n",
    "    for bar in range(1, len(arr)-1):\n",
    "        maxleft = max(arr[:bar])\n",
    "        maxright = max(arr[bar+1:])\n",
    "        difference = (min([maxleft, maxright])-arr[bar])\n",
    "        if difference < 0:\n",
    "            difference = 0\n",
    "        water += difference\n",
    "    return water    "
   ]
  },
  {
   "cell_type": "code",
   "execution_count": 87,
   "metadata": {},
   "outputs": [
    {
     "data": {
      "text/plain": [
       "0"
      ]
     },
     "execution_count": 87,
     "metadata": {},
     "output_type": "execute_result"
    }
   ],
   "source": [
    "arr = [6, 9, 9]\n",
    "\n",
    "rainwater(arr)"
   ]
  },
  {
   "cell_type": "markdown",
   "metadata": {},
   "source": [
    "Given an array arr of N integers, write a function that returns true if there is a triplet (a, b, c) that satisfies a2 + b2 = c2, otherwise false."
   ]
  },
  {
   "cell_type": "code",
   "execution_count": 88,
   "metadata": {},
   "outputs": [],
   "source": [
    "def triplet(arr):\n",
    "    triplets = False\n",
    "    for i in range(len(arr)):\n",
    "        for j in range(i+1, len(arr)):\n",
    "            for k in range(len(arr)):\n",
    "                if arr[i]^2 + arr[j]^2 == arr[k]^2:\n",
    "                    triplets = True\n",
    "    return triplets                "
   ]
  },
  {
   "cell_type": "code",
   "execution_count": 92,
   "metadata": {},
   "outputs": [
    {
     "data": {
      "text/plain": [
       "True"
      ]
     },
     "execution_count": 92,
     "metadata": {},
     "output_type": "execute_result"
    }
   ],
   "source": [
    "arr = [42, 12, 54, 69, 48, 45, 63, 58, 38, 60, 24, 42, 30, 79, 17, 36, 91, 43, 89, 7, 41, 43, 65, 49, 47, 6, 91, 30, 71, 51, 7, 2, 94, 49, 30, 24, 85, 55, 57, 41, 67, 77, 32, 9, 45, 40, 27, 24, 38, 39, 19, 83, 30, 42, 34, 16, 40, 59, 5, 31, 78]\n",
    "\n",
    "triplet(arr)"
   ]
  },
  {
   "cell_type": "code",
   "execution_count": 106,
   "metadata": {},
   "outputs": [],
   "source": [
    "def chocolate(arr, m):\n",
    "    arr.sort()\n",
    "    min_difference = 10^7\n",
    "    for d in range(len(arr)-m+1):\n",
    "        difference = arr[d+m-1]-arr[d]\n",
    "        if min_difference > difference:\n",
    "            min_difference = difference\n",
    "    return min_difference            "
   ]
  },
  {
   "cell_type": "code",
   "execution_count": 113,
   "metadata": {},
   "outputs": [
    {
     "data": {
      "text/plain": [
       "13"
      ]
     },
     "execution_count": 113,
     "metadata": {},
     "output_type": "execute_result"
    }
   ],
   "source": [
    "arr = [17, 83, 59, 25, 38, 63, 25, 1, 37]\n",
    "m = 9\n",
    "\n",
    "chocolate(arr,m)"
   ]
  },
  {
   "cell_type": "markdown",
   "metadata": {},
   "source": [
    "The cost of stock on each day is given in an array A[] of size N. Find all the days on which you buy and sell the stock so that in between those days your profit is maximum.\n",
    "\n",
    "Output format is as follows - (buy_day sell_day) (buy_day sell_day)\n",
    "For each input, output should be in a single line."
   ]
  },
  {
   "cell_type": "code",
   "execution_count": 118,
   "metadata": {},
   "outputs": [],
   "source": [
    "def stock(arr):\n",
    "    p=0\n",
    "    j=0\n",
    "    for i in range(1,len(arr)):\n",
    "        if arr[i-1]>arr[i]:\n",
    "            j=i\n",
    "        if (arr[i-1]<=arr[i]) and (i+1==len(arr) or arr[i]>arr[i+1]):\n",
    "            p+=(arr[i]-arr[j])\n",
    "            print('('+str(j)+' '+str(i)+')',end=' ')\n",
    "    if p==0:\n",
    "        return 'No Profit'"
   ]
  },
  {
   "cell_type": "code",
   "execution_count": 119,
   "metadata": {},
   "outputs": [
    {
     "name": "stdout",
     "output_type": "stream",
     "text": [
      "(0 4) (6 7) (8 9) (10 11) (12 13) (15 17) (19 20) (21 22) (24 26) (28 30) (32 34) (35 36) (37 38) (39 40) (41 42) (43 44) (46 47) (48 49) (50 53) (54 56) (57 58) (60 61) (63 64) (65 66) (67 69) (70 71) (72 73) (74 75) (76 77) (79 81) "
     ]
    }
   ],
   "source": [
    "arr = [886, 2777, 6915, 7793, 8335, 5386, 492, 6649, 1421, 2362, 27, 8690, 59, 7763, 3926, 540, 3426, 9172, 5736, 5211, 5368, 2567, 6429, 5782, 1530, 2862, 5123, 4067, 3135, 3929, 9802, 4022, 3058, 3069, 8167, 1393, 8456, 5011, 8042, 6229, 7373, 4421, 4919, 3784, 8537, 5198, 4324, 8315, 4370, 6413, 3526, 6091, 8980, 9956, 1873, 6862, 9170, 6996, 7281, 2305, 925, 7084, 6327, 336, 6505, 846, 1729, 1313, 5857, 6124, 3895, 9582, 545, 8814, 3367, 5434, 364, 4043, 3750, 1087, 6808, 7276, 7178, 5788]\n",
    "\n",
    "stock(arr)"
   ]
  },
  {
   "cell_type": "markdown",
   "metadata": {},
   "source": [
    "Given an unsorted array of size N. Find the first element in array such that all of its left elements are smaller and all right elements to it are greater than it."
   ]
  },
  {
   "cell_type": "code",
   "execution_count": 127,
   "metadata": {},
   "outputs": [],
   "source": [
    "def leftright(arr):\n",
    "    found = False\n",
    "    for i in range(1,len(arr)-1):\n",
    "        left = False\n",
    "        right = False\n",
    "        if arr[i] == max(arr[:i+1]):\n",
    "            left = True\n",
    "        if arr[i] == min(arr[i:]):\n",
    "            right = True\n",
    "        if left and right:\n",
    "            found = True\n",
    "            return arr[i]\n",
    "    if found == False:\n",
    "        return '-1'\n",
    "        "
   ]
  },
  {
   "cell_type": "code",
   "execution_count": 131,
   "metadata": {},
   "outputs": [
    {
     "data": {
      "text/plain": [
       "7"
      ]
     },
     "execution_count": 131,
     "metadata": {},
     "output_type": "execute_result"
    }
   ],
   "source": [
    "arr=[4, 3, 2, 7, 8, 9]\n",
    "\n",
    "leftright(arr)"
   ]
  },
  {
   "cell_type": "markdown",
   "metadata": {},
   "source": [
    "Given an array Arr (distinct elements) of size N. Rearrange the elements of array in zig-zag fashion. The converted array should be in form a < b > c < d > e < f. The relative order of elements is same in the output i.e you have to iterate on the original array only"
   ]
  },
  {
   "cell_type": "code",
   "execution_count": 152,
   "metadata": {},
   "outputs": [],
   "source": [
    "def zigzag(arr):\n",
    "    i = 1\n",
    "    while i < len(arr):\n",
    "        if i%2 == 1:\n",
    "            if arr[i-1] > arr[i]:\n",
    "                arr[i-1], arr[i] = arr[i], arr[i-1]\n",
    "            i+= 1\n",
    "        else:\n",
    "            if arr[i-1] < arr[i]:\n",
    "                arr[i-1], arr[i] = arr[i], arr[i-1]\n",
    "                i+=1\n",
    "            i+= 1\n",
    "    ans = str(arr[0])\n",
    "    for item in range(1, len(arr)):\n",
    "        if item%2 == 1:\n",
    "            ans += ' < '\n",
    "            ans += str(arr[item])\n",
    "        else:\n",
    "            ans += ' > '\n",
    "            ans += str(arr[item])\n",
    "    return ans        "
   ]
  },
  {
   "cell_type": "code",
   "execution_count": 151,
   "metadata": {},
   "outputs": [
    {
     "data": {
      "text/plain": [
       "'1<4>2<3'"
      ]
     },
     "execution_count": 151,
     "metadata": {},
     "output_type": "execute_result"
    }
   ],
   "source": [
    "arr = [1, 4, 3, 2]\n",
    "\n",
    "zigzag(arr)"
   ]
  },
  {
   "cell_type": "markdown",
   "metadata": {},
   "source": [
    "Given a string S consisting only '0's and '1's,  print the last index of the '1' present in it.\n",
    "Corresponding to every test case, output the last index of 1. If 1 is not present, print \"-1\" (without quotes)."
   ]
  },
  {
   "cell_type": "code",
   "execution_count": 167,
   "metadata": {},
   "outputs": [],
   "source": [
    "def lastone(str):\n",
    "    found = False\n",
    "    for i in range(len(str)-1,0,-1):\n",
    "        if str[i] == '1':\n",
    "            print (i)\n",
    "            found = True\n",
    "            break\n",
    "    if found == False:\n",
    "        print ('-1')              "
   ]
  },
  {
   "cell_type": "code",
   "execution_count": 171,
   "metadata": {},
   "outputs": [
    {
     "name": "stdout",
     "output_type": "stream",
     "text": [
      "32\n"
     ]
    }
   ],
   "source": [
    "str = '11111111111111111111111111111111100000000000000000000000000'\n",
    "\n",
    "lastone(str)"
   ]
  },
  {
   "cell_type": "markdown",
   "metadata": {},
   "source": [
    "Given a matrix of size R*C. Traverse the matrix in spiral form.\n",
    "https://practice.geeksforgeeks.org/problems/spirally-traversing-a-matrix-1587115621/1"
   ]
  },
  {
   "cell_type": "code",
   "execution_count": 196,
   "metadata": {},
   "outputs": [],
   "source": [
    "def spiral(matrix):\n",
    "    matrix = np.array(matrix)\n",
    "    output = []\n",
    "    while(matrix.size):\n",
    "        output.append(matrix[0])        # take first row\n",
    "        matrix = matrix[1:].T[::-1]       # cut off first row and rotate counterclockwise\n",
    "    return np.concatenate(output)"
   ]
  },
  {
   "cell_type": "code",
   "execution_count": 197,
   "metadata": {},
   "outputs": [
    {
     "data": {
      "text/plain": [
       "array([ 1,  2,  3,  4,  8, 12, 16, 15, 14, 13,  9,  5,  6,  7, 11, 10])"
      ]
     },
     "execution_count": 197,
     "metadata": {},
     "output_type": "execute_result"
    }
   ],
   "source": [
    "matrix = [[1, 2, 3, 4],\n",
    "           [5, 6, 7, 8],\n",
    "           [9, 10, 11, 12],\n",
    "           [13, 14, 15,16]]\n",
    "spiral(matrix)"
   ]
  },
  {
   "cell_type": "markdown",
   "metadata": {},
   "source": [
    "Given a list of non negative integers, arrange them in such a manner that they form the largest number possible.The result is going to be very large, hence return the result in the form of a string."
   ]
  },
  {
   "cell_type": "code",
   "execution_count": 7,
   "metadata": {},
   "outputs": [],
   "source": [
    "def largest(list):\n",
    "    list_string = [str(x) for x in list]\n",
    "    list_string.sort(reverse=True)\n",
    "    output =''\n",
    "    for item in list_string:\n",
    "        output += item\n",
    "    return output    "
   ]
  },
  {
   "cell_type": "code",
   "execution_count": 9,
   "metadata": {
    "scrolled": true
   },
   "outputs": [
    {
     "data": {
      "text/plain": [
       "'6054854654'"
      ]
     },
     "execution_count": 9,
     "metadata": {},
     "output_type": "execute_result"
    }
   ],
   "source": [
    "list = [54, 546, 548, 60]\n",
    "\n",
    "largest(list)\n"
   ]
  },
  {
   "cell_type": "code",
   "execution_count": null,
   "metadata": {},
   "outputs": [],
   "source": []
  },
  {
   "cell_type": "code",
   "execution_count": null,
   "metadata": {},
   "outputs": [],
   "source": []
  }
 ],
 "metadata": {
  "kernelspec": {
   "display_name": "Python 3",
   "language": "python",
   "name": "python3"
  },
  "language_info": {
   "codemirror_mode": {
    "name": "ipython",
    "version": 3
   },
   "file_extension": ".py",
   "mimetype": "text/x-python",
   "name": "python",
   "nbconvert_exporter": "python",
   "pygments_lexer": "ipython3",
   "version": "3.8.3"
  }
 },
 "nbformat": 4,
 "nbformat_minor": 4
}
