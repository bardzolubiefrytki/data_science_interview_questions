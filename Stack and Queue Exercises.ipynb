{
 "cells": [
  {
   "cell_type": "code",
   "execution_count": 4,
   "metadata": {},
   "outputs": [],
   "source": [
    "import numpy as np"
   ]
  },
  {
   "cell_type": "markdown",
   "metadata": {},
   "source": [
    "Given an expression string x. Examine whether the pairs and the orders of “{“,”}”,”(“,”)”,”[“,”]” are correct in exp.\n",
    "For example, the function should return 'true' for exp = “[()]{}{[()()]()}” and 'false' for exp = “[(])”."
   ]
  },
  {
   "cell_type": "code",
   "execution_count": 28,
   "metadata": {},
   "outputs": [],
   "source": [
    "def ispar(par):\n",
    "    openings = ['(', '[', '{']\n",
    "    closings = [')', ']', '}']\n",
    "    stack = []\n",
    "    for i in par:\n",
    "        if i in openings:\n",
    "            stack.append(i)\n",
    "        elif i in closings:\n",
    "            pos = closings.index(i)\n",
    "            if (len(stack)>0) and (openings[pos] == stack[len(stack)-1]):\n",
    "                stack.pop()\n",
    "            else:\n",
    "                return False \n",
    "    if len(stack) == 0:\n",
    "        return True\n",
    "    else: \n",
    "        return False       "
   ]
  },
  {
   "cell_type": "code",
   "execution_count": 32,
   "metadata": {},
   "outputs": [
    {
     "data": {
      "text/plain": [
       "True"
      ]
     },
     "execution_count": 32,
     "metadata": {},
     "output_type": "execute_result"
    }
   ],
   "source": [
    "par = '{[]{()}}'\n",
    "\n",
    "ispar(par)"
   ]
  },
  {
   "cell_type": "markdown",
   "metadata": {},
   "source": [
    "Given an array arr[ ] of size N having distinct elements, the task is to find the next greater element for each element of the array in order of their appearance in the array.\n",
    "Next greater element of an element in the array is the nearest element on the right which is greater than the current element.\n",
    "If there does not exist next greater of current element, then next greater element for current element is -1. For example, next greater of the last element is always -1."
   ]
  },
  {
   "cell_type": "code",
   "execution_count": 37,
   "metadata": {},
   "outputs": [],
   "source": [
    "def nextLargerElement(arr):\n",
    "    larger = [-1] * len(arr)\n",
    "    for i in range(len(arr)):\n",
    "        for j in range(i+1, len(arr)):\n",
    "            if arr[j]>arr[i]:\n",
    "                larger[i] = arr[j]\n",
    "                break\n",
    "    return larger            \n",
    "                "
   ]
  },
  {
   "cell_type": "code",
   "execution_count": 40,
   "metadata": {},
   "outputs": [
    {
     "data": {
      "text/plain": [
       "[3, 4, 4, -1]"
      ]
     },
     "execution_count": 40,
     "metadata": {},
     "output_type": "execute_result"
    }
   ],
   "source": [
    "arr = [1, 3, 2, 4]\n",
    "\n",
    "nextLargerElement(arr)"
   ]
  },
  {
   "cell_type": "markdown",
   "metadata": {},
   "source": [
    "Implement a Queue using 2 stacks s1 and s2 .\n",
    "A Query Q is of 2 Types\n",
    "(i) 1 x (a query of this type means  pushing 'x' into the queue)\n",
    "(ii) 2   (a query of this type means to pop element from queue and print the poped element)"
   ]
  },
  {
   "cell_type": "code",
   "execution_count": 47,
   "metadata": {},
   "outputs": [],
   "source": [
    "def queueue(stacks):\n",
    "    queue = []\n",
    "    output = []\n",
    "    i = 0\n",
    "    while i < len(stacks):\n",
    "        if stacks[i] == 1:\n",
    "            queue.append(stacks[i+1])\n",
    "            i += 2\n",
    "        else:\n",
    "            if len(queue) > 0:\n",
    "                output.append(queue[0])\n",
    "                queue.pop(0)\n",
    "            else:\n",
    "                output.append(-1)\n",
    "            i += 1\n",
    "    return output        \n",
    "            "
   ]
  },
  {
   "cell_type": "code",
   "execution_count": 51,
   "metadata": {},
   "outputs": [
    {
     "data": {
      "text/plain": [
       "[98,\n",
       " 66,\n",
       " 84,\n",
       " 29,\n",
       " 30,\n",
       " 69,\n",
       " 16,\n",
       " 50,\n",
       " 24,\n",
       " 46,\n",
       " 52,\n",
       " 65,\n",
       " 42,\n",
       " 94,\n",
       " 35,\n",
       " 25,\n",
       " 88,\n",
       " 44,\n",
       " 33,\n",
       " 76,\n",
       " 22,\n",
       " 96,\n",
       " 29,\n",
       " 30,\n",
       " 5,\n",
       " 7,\n",
       " 5,\n",
       " 29,\n",
       " 70,\n",
       " 25,\n",
       " 84]"
      ]
     },
     "execution_count": 51,
     "metadata": {},
     "output_type": "execute_result"
    }
   ],
   "source": [
    "stacks = [1, 98, 2, 1, 66, 1, 84, 2, 1, 29, 2, 1, 30, 2, 2, 1, 69, 1, 16, 1, 50, 1, 24, 1, 46, 1, 52, 2, 2, 2, 1, 65, 1, 42, 1, 94, 1, 35, 1, 25, 1, 88, 1, 44, 2, 2, 2, 2, 1, 33, 2, 2, 1, 76, 2, 1, 22, 1, 96, 2, 2, 2, 2, 1, 29, 2, 2, 1, 30, 1, 5, 2, 2, 2, 1, 7, 1, 5, 1, 29, 1, 70, 2, 2, 1, 25, 2, 1, 84, 1, 100, 1, 26, 1, 91, 2, 2, 1, 87, 2, 1, 43, 1, 98, 2]\n",
    "queueue(stacks)"
   ]
  },
  {
   "cell_type": "markdown",
   "metadata": {},
   "source": [
    "Given an input stream of A of n characters consisting only of lower case alphabets. The task is to find the first non repeating character, each time a character is inserted to the stream. If there is no such character then append '#' to the answer.\n",
    " \n",
    "\n",
    "Example 1:\n",
    "\n",
    "Input: A = \"aabc\"\n",
    "Output: \"a#bb\"\n",
    "Explanation: For every character first non\n",
    "repeating character is as follow-\n",
    "\"a\" - first non-repeating character is 'a'\n",
    "\"aa\" - no non-repeating character so '#'\n",
    "\"aab\" - first non-repeating character is 'b'\n",
    "\"aabc\" - first non-repeating character is 'b'"
   ]
  },
  {
   "cell_type": "code",
   "execution_count": 93,
   "metadata": {},
   "outputs": [],
   "source": [
    "maxchar = 256\n",
    "\n",
    "def FirstNonRepeating(string):\n",
    "    present = [] * len(string)\n",
    "    repeated = [False] * maxchar\n",
    "    output = ''\n",
    "    for i in range(len(string)):\n",
    "        x = string[i]\n",
    "        if not repeated[ord(x)]:\n",
    "            if not x in present:\n",
    "                present.append(x)\n",
    "            else:\n",
    "                present.remove(x)\n",
    "                repeated[ord(x)] = True\n",
    "        if len(present) !=0:\n",
    "            output += str(present[0])\n",
    "        else:\n",
    "            output += '#'\n",
    "    return output        "
   ]
  },
  {
   "cell_type": "code",
   "execution_count": 96,
   "metadata": {},
   "outputs": [
    {
     "data": {
      "text/plain": [
       "'z#sssssssss'"
      ]
     },
     "execution_count": 96,
     "metadata": {},
     "output_type": "execute_result"
    }
   ],
   "source": [
    "string = \"zzskadbenvd\"\n",
    "\n",
    "FirstNonRepeating(string)"
   ]
  },
  {
   "cell_type": "markdown",
   "metadata": {},
   "source": [
    "Given an array arr[] of size N and an integer K. Find the maximum for each and every contiguous subarray of size K."
   ]
  },
  {
   "cell_type": "code",
   "execution_count": 3,
   "metadata": {},
   "outputs": [],
   "source": [
    "def max_of_subarrays(n, k):\n",
    "    output =[]\n",
    "    for i in range (0,len(n)-k):\n",
    "        output.append(max(n[i:i+k+1]))\n",
    "    return output    "
   ]
  },
  {
   "cell_type": "code",
   "execution_count": 4,
   "metadata": {},
   "outputs": [
    {
     "data": {
      "text/plain": [
       "[10, 10, 15, 15, 90, 90]"
      ]
     },
     "execution_count": 4,
     "metadata": {},
     "output_type": "execute_result"
    }
   ],
   "source": [
    "n = [8, 5, 10, 7, 9, 4, 15, 12, 90, 13]\n",
    "k = 4\n",
    "\n",
    "max_of_subarrays(n, k)"
   ]
  }
 ],
 "metadata": {
  "kernelspec": {
   "display_name": "Python 3",
   "language": "python",
   "name": "python3"
  },
  "language_info": {
   "codemirror_mode": {
    "name": "ipython",
    "version": 3
   },
   "file_extension": ".py",
   "mimetype": "text/x-python",
   "name": "python",
   "nbconvert_exporter": "python",
   "pygments_lexer": "ipython3",
   "version": "3.8.3"
  }
 },
 "nbformat": 4,
 "nbformat_minor": 4
}
